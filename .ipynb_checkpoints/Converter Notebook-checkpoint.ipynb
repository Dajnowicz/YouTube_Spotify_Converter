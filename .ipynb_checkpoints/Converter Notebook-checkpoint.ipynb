{
 "cells": [
  {
   "cell_type": "code",
   "execution_count": 1,
   "metadata": {},
   "outputs": [],
   "source": [
    "from apiclient.discovery import build\n",
    "from google_auth_oauthlib.flow import InstalledAppFlow\n",
    "import youtube_dl\n",
    "import json\n",
    "from tqdm import tqdm\n",
    "import requests\n",
    "import pandas as pd"
   ]
  },
  {
   "cell_type": "code",
   "execution_count": 153,
   "metadata": {},
   "outputs": [],
   "source": [
    "spotify_token = \"xxxxx\"\n",
    "spotify_user_id = \"xxx\""
   ]
  },
  {
   "cell_type": "markdown",
   "metadata": {},
   "source": [
    "## Connect With Google API"
   ]
  },
  {
   "cell_type": "code",
   "execution_count": 1,
   "metadata": {},
   "outputs": [],
   "source": [
    "CLIENT_SECRET_FILE = 'secret_json.json'\n",
    "SCOPES = ['https://www.googleapis.com/auth/youtube']\n",
    "\n",
    "flow = InstalledAppFlow.from_client_secrets_file(CLIENT_SECRET_FILE, SCOPES)\n",
    "credentials = flow.run_console()\n",
    "youtube = build('youtube', 'v3', credentials=credentials)"
   ]
  },
  {
   "cell_type": "markdown",
   "metadata": {},
   "source": [
    "## Get Id Of Videos In PlayLisy"
   ]
  },
  {
   "cell_type": "code",
   "execution_count": 154,
   "metadata": {},
   "outputs": [],
   "source": [
    "def get_results_playlist():\n",
    "    request = youtube.playlistItems().list(\n",
    "        part=\"snippet,contentDetails\",\n",
    "        playlistId=\"plalist_id\",\n",
    "        maxResults =50\n",
    "    )\n",
    "    response = request.execute()\n",
    "    for item in response['items']:\n",
    "            #print(item)\n",
    "            List_of_titles_from_playlist.append(item['snippet']['resourceId']['videoId']) \n",
    "    return List_of_titles_from_playlist"
   ]
  },
  {
   "cell_type": "code",
   "execution_count": 136,
   "metadata": {
    "scrolled": true
   },
   "outputs": [
    {
     "data": {
      "text/plain": [
       "['cNvjKkXFBvU',\n",
       " 'Ywq6FMLbWH4',\n",
       " 'G_KAnrRpjts',\n",
       " '6K9aJp5E9hw',\n",
       " 'k_Pik0YleJQ',\n",
       " '6iPDdCJ1lEM',\n",
       " 'DArzZ3RvejU',\n",
       " 'gl4PNq6A4BU',\n",
       " '5HtqePscAio',\n",
       " 'tMMiNfDbOLs',\n",
       " 'nlrckUmSxIM',\n",
       " 'nO8C0jpsW7Y',\n",
       " '9r-nskINelQ',\n",
       " 'UC3oT_hA9ng',\n",
       " 'NDH1bGnNMjw',\n",
       " '3tUh-x-fp8Q',\n",
       " 'ZJM4AQSbZDk',\n",
       " 'XEcKhamKyW4',\n",
       " '90fRR8vHoM0',\n",
       " 'pLuQ0MGLBXU',\n",
       " 'DrbmXAyW0vc',\n",
       " '26J98jG_j4k',\n",
       " 'xOgdaVoSuWg',\n",
       " 'OULPCGSatzU',\n",
       " 'mX5DMj8MHew',\n",
       " 'fDsdUoRRXTE',\n",
       " 'OxiH8NK1Tn0',\n",
       " '3fEXvwQTrgo',\n",
       " 'x4QYkHJuW48',\n",
       " '66XGImlzY_I',\n",
       " 'tYwBRlgeK9Q',\n",
       " 'E8kEYzHrZMM',\n",
       " '-d4jwvzt0RI',\n",
       " 'qMpGYDLfsFk',\n",
       " 'yDIun67PPpA',\n",
       " 'OYP38qW_96Q',\n",
       " 'Rz7fFaovCwM']"
      ]
     },
     "execution_count": 136,
     "metadata": {},
     "output_type": "execute_result"
    }
   ],
   "source": [
    "List_of_titles_from_playlist = []\n",
    "get_results_playlist()"
   ]
  },
  {
   "cell_type": "markdown",
   "metadata": {},
   "source": [
    "## Get Id of Videos In \"Liked Folder\" And Are Music"
   ]
  },
  {
   "cell_type": "code",
   "execution_count": 4,
   "metadata": {},
   "outputs": [],
   "source": [
    "def get_results(Token=''):\n",
    "    request = youtube.videos().list(\n",
    "            part=\"snippet,contentDetails,statistics\",\n",
    "            myRating=\"like\",\n",
    "            maxResults = 50,\n",
    "            pageToken = Token\n",
    "        )\n",
    "    response = request.execute() \n",
    "    nextToken = response.get('nextPageToken', {})\n",
    "    for item in response['items']:\n",
    "            if item['snippet']['categoryId'] == '10':\n",
    "                List_of_titles.append(item['id'])    \n",
    "    if nextToken:\n",
    "        get_results(nextToken)\n",
    "    else:\n",
    "        return List_of_titles"
   ]
  },
  {
   "cell_type": "code",
   "execution_count": 5,
   "metadata": {},
   "outputs": [],
   "source": [
    "List_of_titles = []\n",
    "get_results()\n",
    "List_of_titles = list(dict.fromkeys(List_of_titles))"
   ]
  },
  {
   "cell_type": "code",
   "execution_count": 99,
   "metadata": {},
   "outputs": [
    {
     "data": {
      "text/plain": [
       "['Dlb6yvnFp2c',\n",
       " 'ADP65wbBUpc',\n",
       " 'EWapk2fa76s',\n",
       " '1t_sMynan_k',\n",
       " 'Fk-4lXLM34g',\n",
       " 'whvST-Hs1VI',\n",
       " 'GOJ5HYGIqlY',\n",
       " '-26hsZqwveA',\n",
       " 'GfnNRM_poYE',\n",
       " 'f-b2xWjeQIU',\n",
       " 'KPQ5gobBqXc',\n",
       " 'tgnuOSLPwMI',\n",
       " 'q7UxovvEkI0',\n",
       " '_Gax6Oib7CM',\n",
       " 'D_EnyikMsEU',\n",
       " '7-BnB3xxUoA',\n",
       " 'DRQAuN2cBT8',\n",
       " '0Mmtqlx8d08',\n",
       " 'F0uvt97Xn20',\n",
       " 'FrEP4MHCKDc',\n",
       " 'neGkGWhiGhw',\n",
       " 'vVzWVinJ5wQ',\n",
       " 'Ef6IrnVWSVY',\n",
       " 'W8KC0lgs2c8',\n",
       " '0s5FPZpxXe8',\n",
       " 'd6qFgwlOTxc',\n",
       " '1Vtr6sT8xQ4',\n",
       " '4G6QDNC4jPs',\n",
       " 'V9OdgZyuls8',\n",
       " '-AB-LmbsYTE',\n",
       " 'pfhUJ9iNTVU',\n",
       " 'wnScIx7iK4g',\n",
       " 'rHAVOMvAv5o',\n",
       " 'jTC32XBwSfc',\n",
       " 'vnOFzBtPgUc',\n",
       " 'F7C5yYlWZx8',\n",
       " 'ub6ciw-5QQM',\n",
       " 'b7kxtIGaNpw',\n",
       " '0l8mjWo_KR8',\n",
       " 'cfnC9FPHiZo',\n",
       " '3fEXvwQTrgo',\n",
       " 'uFcLlUbKks4',\n",
       " 'DrbmXAyW0vc',\n",
       " 'pLuQ0MGLBXU',\n",
       " 'ZJM4AQSbZDk',\n",
       " '3tUh-x-fp8Q',\n",
       " 'DArzZ3RvejU',\n",
       " 'gl4PNq6A4BU',\n",
       " 'nlrckUmSxIM',\n",
       " '5HtqePscAio',\n",
       " 'k_Pik0YleJQ',\n",
       " 'G_KAnrRpjts',\n",
       " 'Ywq6FMLbWH4',\n",
       " 'XEcKhamKyW4',\n",
       " 'mX5DMj8MHew',\n",
       " 'KDUOLz9ZL2g',\n",
       " '106MCJO8btY',\n",
       " 'YFuFgmh5Aa8',\n",
       " 'fDsdUoRRXTE',\n",
       " 'XlDFUeUm9FM',\n",
       " 'DhUsixmVnDI',\n",
       " '35LrV-V-ORY',\n",
       " 'o8I1GBUo1es',\n",
       " 'ZIldTqYPzMQ',\n",
       " 'H9hELOF0a6g',\n",
       " '3Rdm8LItAHs',\n",
       " '7yw8O2mdrxs',\n",
       " '62VmotZgkEY',\n",
       " 'fR78gah_jsA',\n",
       " 'A-YpnWZD2cE',\n",
       " 'm0_kIkodrds',\n",
       " 'OV3URhKw954',\n",
       " 'q9M7XpHqeP0',\n",
       " 'OxiH8NK1Tn0',\n",
       " '5b-FyvUJsFE',\n",
       " 'U907umxfo5w',\n",
       " 'Tfa6fRjPlUE',\n",
       " '1hHSH9sJUEo',\n",
       " 'NYijOKaHhzI',\n",
       " '1IwO53CYYSQ',\n",
       " 'HII0mpxYhlk',\n",
       " 'gbAZJBtR5Hw',\n",
       " 'jnwDkVo6DxA',\n",
       " 'UysBH6BivPw',\n",
       " '6DEOtUqNJlA',\n",
       " 'RDUsN55dbnM',\n",
       " 'q_MVDY7nDQE',\n",
       " 'Ixkc0p5cqeU',\n",
       " 'RIDMoYds8kA',\n",
       " '4Nz3DL6EXtQ',\n",
       " 'PLkdlTiJ2sY',\n",
       " 'MA0Htg-2rtg',\n",
       " '9JcUIgBhOgY',\n",
       " 'U9d8qHWhOII',\n",
       " 'uVzL64M6tsw',\n",
       " 'XkqlTk-YjHo',\n",
       " 'iB3O1zZ4JVU',\n",
       " '_8VZ52fWYnQ',\n",
       " 'G5zPqgQ67yo',\n",
       " 'Nf-9jLF6mIk',\n",
       " 'sM0n6KfLp4E',\n",
       " 'mD4f4gKjhzo',\n",
       " 'Wz4So_ifXr0',\n",
       " '8gJ3HzBbdxI',\n",
       " 'QGnlW-L_THE',\n",
       " 'cTPaDbt_USA',\n",
       " '8J0CjQjjy24',\n",
       " 'VZGsdyIXC9Y',\n",
       " 'MLHznxvfklA',\n",
       " '9iaZpoc_NSU',\n",
       " 'tHQyeYSuiqg',\n",
       " 'uJvdgky2PCk',\n",
       " 'r7p2_APcGj4',\n",
       " 'rKlA5tRu6f0',\n",
       " 'InpJ-uZwVms',\n",
       " 'TdrChyGb574',\n",
       " '15UWm0okgvA',\n",
       " '0jSbklyhkxg',\n",
       " 'bWze_JdO57s',\n",
       " 'IRB9Hgj5oQY',\n",
       " 'JIe3gT6OK_4',\n",
       " 'dziLJsZWGF4',\n",
       " 'NAS5Z1GvxrQ',\n",
       " 'yh2mMuoFu4k',\n",
       " 'pPjX_FlL9sY',\n",
       " 'OSdUDEHL4sQ',\n",
       " 'p5XtvhR4oUY',\n",
       " '0L7Q26lDFHw',\n",
       " '0wyc4VmphYg',\n",
       " 'pK2-XuLByuQ',\n",
       " 'kxZaovFzw5Q',\n",
       " 'n7vRQhxtESQ',\n",
       " 'KBe5ln0AL30',\n",
       " 'GSoQDaXh144',\n",
       " '3bJe_Je4wQA',\n",
       " '0zf0rMfTeaI',\n",
       " '7Xue-dOOLiY',\n",
       " 'Pisxp5Gi3co',\n",
       " 'ZBBS4imv1qo',\n",
       " 'MizPu-dTPQU',\n",
       " 'ljUiWKQQHhk',\n",
       " 'he8FlspujC4',\n",
       " 'f7zVBY0tI0Y',\n",
       " 'zUGaDbBP4xc',\n",
       " 'npqxochFfnk',\n",
       " '0XermFViClk',\n",
       " 'CPmcar62Y5c',\n",
       " 'FDc2xFjVerI',\n",
       " '0Yy9YzdmTJA',\n",
       " '2ubdG1LaL3o',\n",
       " 'EBbKVc6KLkM',\n",
       " 'dit6KH5hnw4',\n",
       " 'NPcyTyilmYY',\n",
       " '7ZbO3pq9qq4',\n",
       " 'iWiilOH4cQE',\n",
       " '0UZNejS8l4g',\n",
       " 'G2XxSoQ2L58',\n",
       " 'ozG0O5DOmPk',\n",
       " 'CkyZbwSc8dE',\n",
       " 'xkggnfLINIs',\n",
       " 'EEx482Xo_v8',\n",
       " 'Bs6BLyTO4d8',\n",
       " 'fhz_uonjA50',\n",
       " 'iaGjz4dtr3o',\n",
       " 'NGlRzEzVSe0',\n",
       " 'xOgdaVoSuWg',\n",
       " 'MSRVGMo2dsE',\n",
       " 'N6BSS-q1tVA',\n",
       " '6_DbvpjBAZg',\n",
       " '0ZoxZE5RGc0',\n",
       " '8NQp9WGg7Rs',\n",
       " 'QLlldC9Y2LI',\n",
       " 'ch6Y9EYStzo',\n",
       " 'PuFrndeuzj0',\n",
       " 'swTki-Klk3g',\n",
       " 'NESvKLlPQz8',\n",
       " 'nTrtasaAO1A',\n",
       " 'sRSJ2FIaQ8E',\n",
       " 'jfy6FYRtxGA',\n",
       " 'LKaMx2oyn7s',\n",
       " 'bT4DyQnchl8',\n",
       " 'tlsLWHEZdxg',\n",
       " 'VGAMSfMflJI',\n",
       " 'aovJFP-rmgE',\n",
       " 'P00HMxdsVZI',\n",
       " 'H9bGITkIHmM',\n",
       " 'e7NANhFMHWo',\n",
       " 'MhsgodAhyq4',\n",
       " '4PCF9sUx5Rc',\n",
       " 'paP-tGZBP9g',\n",
       " 'gRBijune7qI',\n",
       " 'RCX5UOodZtw',\n",
       " 'l-m1w8L-cL8',\n",
       " 'FfWqecnXOL4',\n",
       " '4XpW3kkNIj0',\n",
       " 'baQ2IbszCRU',\n",
       " '5zEj2LJSoQY',\n",
       " 'cIVOGOiDYVY',\n",
       " '8vvIG2nEJjM',\n",
       " 'TGkpOOPZIdk',\n",
       " 'B7UTyzdXj7w',\n",
       " 'fU-YSvgr81M',\n",
       " 'hg8Nl40e1Kc',\n",
       " 'o_HLA6MY4JQ',\n",
       " 'oHQvliBkonA',\n",
       " '2CCNswShJRc',\n",
       " 'kXUtOoNUOzE',\n",
       " '1HWdLbTi_zs',\n",
       " 'FzpJl-i7ZRg',\n",
       " 'zLB7GQU9BN4',\n",
       " 'ZJ-Q3P21QNo',\n",
       " 'ffzbacDuawI',\n",
       " 'lF3KWYpXWCA',\n",
       " 'epouRsx-maw',\n",
       " '7fPTgnCBO1Y',\n",
       " 'iSTXEPk_4kA',\n",
       " 'ilNEqmfUyzI',\n",
       " 'LYG1Waliqbw',\n",
       " 'xuTDKlyXbQg',\n",
       " 'BNpPJpdeMns',\n",
       " 'OedZfK80hAM',\n",
       " 'QbGW9NvTqJM',\n",
       " 'moh3_e42D_c',\n",
       " 'COz9lDCFHjw',\n",
       " 'DNt9dHvRUSU',\n",
       " 'YfdwQKGB--4',\n",
       " 'MddG0quhiFY',\n",
       " 'qy2D66L8lBw',\n",
       " 'NaAuyppB-CE',\n",
       " 'jnk7TCzFoIY',\n",
       " 'yg8116aeD7E',\n",
       " 'geqHEpUgjtY',\n",
       " 't4UI8uVtKC0',\n",
       " 'NK1tEu-t6LQ',\n",
       " '6RcvWnmzwS4',\n",
       " 'BY2gP_Um-HU',\n",
       " '_C7UgR_sIW0',\n",
       " 'LtAJVMXJ7Zo',\n",
       " 'kKShVusSVEE',\n",
       " 'UEqhmAUvmXk',\n",
       " 'XdF2wXc3LuM',\n",
       " 'DlPHmYtqSdA',\n",
       " 'NYaTqDLtZsM',\n",
       " 'e6-HossxeWc',\n",
       " '_7mZTYNxRuk',\n",
       " 'teVQEbsBaUA',\n",
       " 'sYsXKhBknyM',\n",
       " 'K15ppLWH5vk',\n",
       " 'roQuEqxjDx4',\n",
       " 'wL-VMOGAhzE',\n",
       " '2BhoS0Tmmew',\n",
       " '2iKu4osYXQA',\n",
       " 'q6kImCzARvs',\n",
       " '7xIZBtqBgLg',\n",
       " 'z0zUV-VW1gQ',\n",
       " 'T4FOakYWYdU',\n",
       " 'V478GXhHrb4',\n",
       " '39ssYJJJqRk',\n",
       " 'JDEtcyfaodI',\n",
       " 'RpYIcFBPLv8',\n",
       " 'WMKb2Tq0c9I',\n",
       " 'dXw2Q7iHTAw',\n",
       " 'Unpn0dVKvnY',\n",
       " 'G5EYCvKdm9U',\n",
       " 'i4Cf0XxzMIE',\n",
       " 'P2L8EExwkuE',\n",
       " '2f9aRNykkgg',\n",
       " 'gAJgIPdMucs',\n",
       " 'kK29Ib6kZss',\n",
       " 'zevvyp9esIY',\n",
       " 'EfHapY71HFc',\n",
       " 'JGDLvtiUCUw',\n",
       " 'x4KsF3qidq4',\n",
       " 'S3yw54CK0mw',\n",
       " 'kx0Z0B8Xox0',\n",
       " 'Gb13xOuTN6c',\n",
       " 'k8rShIDDRV0',\n",
       " 'yEIde4Zp1tk',\n",
       " 'Zex85ZrLmYo',\n",
       " 'HlI9HGWftCg',\n",
       " '7uexS9fxSNA',\n",
       " 'y2oLbP7tvMk',\n",
       " 'SaDWXi8x0Vc',\n",
       " '3VKsR0hWWmU',\n",
       " 'EyS__8o8Fsk',\n",
       " 'b6HcHFz5dZg',\n",
       " '_ihqbMicm_s',\n",
       " 'bGrxBmyiMls',\n",
       " 'sxxy-kaeO-o',\n",
       " '4pQiUJmuWq4',\n",
       " '76IAnVEwT5Q',\n",
       " 'w2Ov5jzm3j8',\n",
       " 'sCNlt5nvSI8',\n",
       " 'SFVVviZZ1N0',\n",
       " 'GK8KgWJPbFw',\n",
       " '_lC57weTWU0',\n",
       " 'MLX8zFgsrlU',\n",
       " 'eOZLDQm9c2E',\n",
       " 'cRjoJ7kT4cA',\n",
       " 'bGlCFjHJtnw',\n",
       " 'm548DsoGPsQ',\n",
       " 'rD85HZQwwWw',\n",
       " '4QCXr79Rkcw',\n",
       " 'kiMpvEZ8DJ4',\n",
       " 'UQCz7KJ6rw0',\n",
       " 'TP6y2RVuYXw',\n",
       " '-qMnzO69fr8',\n",
       " 'NkRkuI0ZgX0',\n",
       " 'LqZpGYhyvr4',\n",
       " 'NjzR9qkZDFA',\n",
       " 'z2SBmLydwKc',\n",
       " 'AkLe43ywRHg',\n",
       " 'jw3wjd0pPyE',\n",
       " 'u8tdT5pAE34',\n",
       " 'Z8Y1MalRrDc',\n",
       " 'w3qzlGCZXsg',\n",
       " 'EOTebhPy04g',\n",
       " '77zW-e5jn3g',\n",
       " 'IwbhPJsnE6U',\n",
       " '8mwcLVZGlw8',\n",
       " 't1tq8zjpmT8',\n",
       " 'Pgxb3WbBx5Q',\n",
       " 'DyDfgMOUjCI',\n",
       " 'FPOEOq59ONo',\n",
       " 'KHohhuZXJR8',\n",
       " 'bvttDWdl0OQ',\n",
       " 'JpWHmFQvNR8',\n",
       " 'yolVKbSFLVY',\n",
       " 'Zsaz72OBT9s',\n",
       " 'KjQSSYOTXzk',\n",
       " 'tZFAw2PCClg',\n",
       " 'cfLYRLmoPk0',\n",
       " 'kCBcDcd-6Rg',\n",
       " 'HUHC9tYz8ik',\n",
       " 'BqwGpLR0nUY',\n",
       " 'CZOkI4WnW5U',\n",
       " 'V6hQ9HSKlIE',\n",
       " 'DGwK1jjemgE',\n",
       " 'DwrHwZyFN7M',\n",
       " 'm3Is8fNVJyU',\n",
       " 'D08nQ4R7fyQ',\n",
       " 'COiIC3A0ROM',\n",
       " '3AJFSyhhP2M',\n",
       " 'Qx26lXdLUCE',\n",
       " 'WWOcnaZwhOs',\n",
       " 'C8FPQ59GjD8',\n",
       " 'N6fBNMbJ38E',\n",
       " '2TuJKsfpfNI',\n",
       " 'rNUsOaB5V2c',\n",
       " 'lOfZLb33uCg',\n",
       " 'notKtAgfwDA',\n",
       " '_G1soKzXJUo',\n",
       " 'tKvqhlhXq9s',\n",
       " 'k5sRMxEmkXE',\n",
       " '4waVhT1euQo',\n",
       " 'f488uJAQgmw',\n",
       " '9CMklemwu2k',\n",
       " 'MVxh92lf_EU',\n",
       " 'vCXsRoyFRQE',\n",
       " 'kJa2kwoZ2a4',\n",
       " 'kg1BljLu9YY',\n",
       " '6k0JeEKR3Do',\n",
       " '6o-wwaZDIFw',\n",
       " 'ogNAuoRgPA4',\n",
       " 'bz1cdFpHV0Q',\n",
       " 'IQDbdPZ_vDA',\n",
       " 'TCKeMlC6nYg',\n",
       " '-MJfzrBnzHo',\n",
       " '24-9w-694Sc',\n",
       " 'DEO8WQWSR4o',\n",
       " 'q-qqrGtlHkg',\n",
       " 'a5ITPHgfp1k',\n",
       " 'Vnoz5uBEWOA',\n",
       " 'Ku1Bl_yjvGg',\n",
       " 'GmzWbgzo6B4',\n",
       " 'FurfkzTP7fk',\n",
       " '5v7pHK4zBtE',\n",
       " 'nojiYoLO9vg',\n",
       " 'YY3NdmhYBjk',\n",
       " 'N67oZM71gCY',\n",
       " 'TW7_Vk57MGo',\n",
       " 'Lp__a8p0xCY',\n",
       " 'O1XYw7y7MAs',\n",
       " 'hP8pEcFEaAg',\n",
       " 'ZD3_mPsuAfA',\n",
       " '1vrEljMfXYo',\n",
       " 'kg2eaHZx37Y',\n",
       " 'tE-jz6YeovQ',\n",
       " 'Eh-OiegK3tg',\n",
       " '7U3V-djfoTM',\n",
       " 'z-4_SBwzMZI',\n",
       " 'TeBXP0QZisE',\n",
       " 'hDChMhd5dcg',\n",
       " 'MV4vmqpiVag',\n",
       " 'jf5zduoBTk4',\n",
       " 'X8aSeaPAX5c',\n",
       " 'kydnrKC0h9I',\n",
       " 'kCfVv3RsGw4',\n",
       " 'taPEwq8W15w',\n",
       " 'uysHg_cifig',\n",
       " 'NLynxwbALaE',\n",
       " '0CWVgu2Odjg',\n",
       " 'x7g_SWE90O8',\n",
       " 'fvKa-Ll9Ers',\n",
       " 'VDndE432GpU',\n",
       " 'dlF1KxtArCg',\n",
       " 'G8pptpmkHXg',\n",
       " 'XZ5GDzdmKnM',\n",
       " 'v5aBar7y0f4',\n",
       " 'ud6tWL8lCV8',\n",
       " 'mOFvJVroAJE',\n",
       " 'obJOxTnNeAM',\n",
       " '1rWZ5-4N5Zw',\n",
       " 'OeawokXyvXY',\n",
       " '1RqiuQ_I21I',\n",
       " '8wh0sZFZNoI',\n",
       " 'E-4Dtd6mC-c',\n",
       " 'Y3ChmjN9zAY',\n",
       " 'jLukr4rzDU4',\n",
       " 'z-mxlmV0Ub0',\n",
       " 'A9RLCKYf070',\n",
       " 'Z5y_80-qPHY',\n",
       " 'FrlemO4Wy4s',\n",
       " 'rsWmrGuuWuE',\n",
       " 'xfPnYAS5vVg',\n",
       " 'pd8Pf1ju13w',\n",
       " '5OojMIvbt_o',\n",
       " 'Tc6ZwHwWY5M',\n",
       " 'rPChbINB-j4',\n",
       " 'J9H1Z59E5fg',\n",
       " 'QjTrnKAcYjE',\n",
       " 'qQaEWVYuyXU',\n",
       " 'eGmlRQ5R78Y',\n",
       " 'cMrvNeDSLB0',\n",
       " 'eAg5QHqrqIM',\n",
       " '_u1DOu_p1mI',\n",
       " 'lxcfJMADi2M',\n",
       " '30HBvKrWE2g',\n",
       " 'YhJiGqtGtW0',\n",
       " 'v83GotLyg-0',\n",
       " 'AXrr1Hpa9JM',\n",
       " 'e7nAhXnSITg',\n",
       " 'UjqXKgk5b18',\n",
       " '10T59QcJWYg',\n",
       " 'npRleVHCrZs',\n",
       " 'z6om_ApMmPQ',\n",
       " 'MC9YhrkToxs',\n",
       " 'q9JdOCTrdhM',\n",
       " 'NK7exkGCAug',\n",
       " 'yUpc7Qi6IxE',\n",
       " '6ukm47m1cXU',\n",
       " 'HlX1IZqxtDM',\n",
       " 'elLdoTZP3Tc',\n",
       " 'rZ7MzrVoXuA',\n",
       " '_g09hIGepnQ',\n",
       " 'DKL4X0PZz7M',\n",
       " '6_WZGsImf6U',\n",
       " 'qRXzqVMGFkE',\n",
       " 'pNB48T-LPrI',\n",
       " '0dCi0f8esIk',\n",
       " 'ditTa3qRCPs',\n",
       " 'K58JYXhb4YA',\n",
       " 'sy4IhE-KAEg',\n",
       " 'vtfKVoUYzyE',\n",
       " 's2pp_ZAk6Uw',\n",
       " 'yywx1ggNby8',\n",
       " 'JamXFfWGkJM',\n",
       " 'vHU6ZRQJ50Q',\n",
       " '1ZM1Yz7f4Lk',\n",
       " 'HLJalGNTHQw',\n",
       " 'yIALgrGNuu4',\n",
       " 'bl5TUw7sUBs',\n",
       " 'Itt1nn9aWz0',\n",
       " 'ggFIQMAp7SU',\n",
       " '07qfReBfkrI',\n",
       " 'RvSzNrLPKTE',\n",
       " 'KYHrh8r-nQg',\n",
       " 'n2795SBvy1s',\n",
       " 'ftLxvw_eFN0',\n",
       " 'gs0xe9DQEPc',\n",
       " 's3K_10PamZs',\n",
       " 'hpx-742y_IY',\n",
       " '9bZkp7q19f0',\n",
       " 'YeBvurTaKX8',\n",
       " '6rUbn5cH0u4',\n",
       " 'wQf3A2ohX7c',\n",
       " 'ABkQ96dh0eQ',\n",
       " '6D8GN5fIPq8',\n",
       " 'F-8CdBxFDuE',\n",
       " 'Q8yk6kuIap4',\n",
       " 'AesuPvWeJvs',\n",
       " 'c-mZ3ZEySL8']"
      ]
     },
     "execution_count": 99,
     "metadata": {},
     "output_type": "execute_result"
    }
   ],
   "source": [
    "len(List_of_titles)"
   ]
  },
  {
   "cell_type": "markdown",
   "metadata": {},
   "source": [
    "## Get Information about each Video"
   ]
  },
  {
   "cell_type": "code",
   "execution_count": 141,
   "metadata": {},
   "outputs": [],
   "source": [
    "youtube_urls = []\n",
    "song_names = []\n",
    "artists = []\n",
    "list_of_tuples = []"
   ]
  },
  {
   "cell_type": "code",
   "execution_count": 142,
   "metadata": {},
   "outputs": [
    {
     "name": "stderr",
     "output_type": "stream",
     "text": [
      "\r",
      "  0%|                                                                                           | 0/37 [00:00<?, ?it/s]"
     ]
    },
    {
     "name": "stdout",
     "output_type": "stream",
     "text": [
      "[youtube] cNvjKkXFBvU: Downloading webpage\n",
      "[youtube] cNvjKkXFBvU: Downloading video info webpage\n"
     ]
    },
    {
     "name": "stderr",
     "output_type": "stream",
     "text": [
      "\r",
      "  3%|██▏                                                                                | 1/37 [00:01<00:59,  1.66s/it]"
     ]
    },
    {
     "name": "stdout",
     "output_type": "stream",
     "text": [
      "[youtube] Ywq6FMLbWH4: Downloading webpage\n",
      "[youtube] Ywq6FMLbWH4: Downloading video info webpage\n"
     ]
    },
    {
     "name": "stderr",
     "output_type": "stream",
     "text": [
      "\r",
      "  5%|████▍                                                                              | 2/37 [00:03<01:02,  1.79s/it]"
     ]
    },
    {
     "name": "stdout",
     "output_type": "stream",
     "text": [
      "[youtube] G_KAnrRpjts: Downloading webpage\n",
      "[youtube] G_KAnrRpjts: Downloading video info webpage\n"
     ]
    },
    {
     "name": "stderr",
     "output_type": "stream",
     "text": [
      "\r",
      "  8%|██████▋                                                                            | 3/37 [00:05<01:02,  1.83s/it]"
     ]
    },
    {
     "name": "stdout",
     "output_type": "stream",
     "text": [
      "[youtube] 6K9aJp5E9hw: Downloading webpage\n",
      "[youtube] 6K9aJp5E9hw: Downloading video info webpage\n"
     ]
    },
    {
     "name": "stderr",
     "output_type": "stream",
     "text": [
      "\r",
      " 11%|████████▉                                                                          | 4/37 [00:07<00:58,  1.76s/it]"
     ]
    },
    {
     "name": "stdout",
     "output_type": "stream",
     "text": [
      "[youtube] k_Pik0YleJQ: Downloading webpage\n",
      "[youtube] k_Pik0YleJQ: Downloading video info webpage\n"
     ]
    },
    {
     "name": "stderr",
     "output_type": "stream",
     "text": [
      "\r",
      " 14%|███████████▏                                                                       | 5/37 [00:09<00:56,  1.77s/it]"
     ]
    },
    {
     "name": "stdout",
     "output_type": "stream",
     "text": [
      "[youtube] 6iPDdCJ1lEM: Downloading webpage\n",
      "[youtube] 6iPDdCJ1lEM: Downloading video info webpage\n"
     ]
    },
    {
     "name": "stderr",
     "output_type": "stream",
     "text": [
      "\r",
      " 16%|█████████████▍                                                                     | 6/37 [00:10<00:54,  1.77s/it]"
     ]
    },
    {
     "name": "stdout",
     "output_type": "stream",
     "text": [
      "[youtube] DArzZ3RvejU: Downloading webpage\n",
      "[youtube] DArzZ3RvejU: Downloading video info webpage\n"
     ]
    },
    {
     "name": "stderr",
     "output_type": "stream",
     "text": [
      "\r",
      " 19%|███████████████▋                                                                   | 7/37 [00:12<00:53,  1.80s/it]"
     ]
    },
    {
     "name": "stdout",
     "output_type": "stream",
     "text": [
      "[youtube] gl4PNq6A4BU: Downloading webpage\n",
      "[youtube] gl4PNq6A4BU: Downloading video info webpage\n"
     ]
    },
    {
     "name": "stderr",
     "output_type": "stream",
     "text": [
      "\r",
      " 22%|█████████████████▉                                                                 | 8/37 [00:14<00:51,  1.78s/it]"
     ]
    },
    {
     "name": "stdout",
     "output_type": "stream",
     "text": [
      "[youtube] 5HtqePscAio: Downloading webpage\n",
      "[youtube] 5HtqePscAio: Downloading video info webpage\n"
     ]
    },
    {
     "name": "stderr",
     "output_type": "stream",
     "text": [
      "\r",
      " 24%|████████████████████▏                                                              | 9/37 [00:16<00:48,  1.75s/it]"
     ]
    },
    {
     "name": "stdout",
     "output_type": "stream",
     "text": [
      "[youtube] tMMiNfDbOLs: Downloading webpage\n",
      "[youtube] tMMiNfDbOLs: Downloading video info webpage\n"
     ]
    },
    {
     "name": "stderr",
     "output_type": "stream",
     "text": [
      "\r",
      " 27%|██████████████████████▏                                                           | 10/37 [00:17<00:47,  1.76s/it]"
     ]
    },
    {
     "name": "stdout",
     "output_type": "stream",
     "text": [
      "[youtube] nlrckUmSxIM: Downloading webpage\n",
      "[youtube] nlrckUmSxIM: Downloading video info webpage\n"
     ]
    },
    {
     "name": "stderr",
     "output_type": "stream",
     "text": [
      "\r",
      " 30%|████████████████████████▍                                                         | 11/37 [00:19<00:48,  1.86s/it]"
     ]
    },
    {
     "name": "stdout",
     "output_type": "stream",
     "text": [
      "[youtube] nO8C0jpsW7Y: Downloading webpage\n",
      "[youtube] nO8C0jpsW7Y: Downloading video info webpage\n"
     ]
    },
    {
     "name": "stderr",
     "output_type": "stream",
     "text": [
      "\r",
      " 32%|██████████████████████████▌                                                       | 12/37 [00:21<00:46,  1.86s/it]"
     ]
    },
    {
     "name": "stdout",
     "output_type": "stream",
     "text": [
      "[youtube] 9r-nskINelQ: Downloading webpage\n",
      "[youtube] 9r-nskINelQ: Downloading video info webpage\n"
     ]
    },
    {
     "name": "stderr",
     "output_type": "stream",
     "text": [
      "\r",
      " 35%|████████████████████████████▊                                                     | 13/37 [00:23<00:42,  1.76s/it]"
     ]
    },
    {
     "name": "stdout",
     "output_type": "stream",
     "text": [
      "[youtube] UC3oT_hA9ng: Downloading webpage\n",
      "[youtube] UC3oT_hA9ng: Downloading video info webpage\n"
     ]
    },
    {
     "name": "stderr",
     "output_type": "stream",
     "text": [
      "\r",
      " 38%|███████████████████████████████                                                   | 14/37 [00:25<00:42,  1.85s/it]"
     ]
    },
    {
     "name": "stdout",
     "output_type": "stream",
     "text": [
      "[youtube] NDH1bGnNMjw: Downloading webpage\n",
      "[youtube] NDH1bGnNMjw: Downloading video info webpage\n"
     ]
    },
    {
     "name": "stderr",
     "output_type": "stream",
     "text": [
      "\r",
      " 41%|█████████████████████████████████▏                                                | 15/37 [00:27<00:43,  1.96s/it]"
     ]
    },
    {
     "name": "stdout",
     "output_type": "stream",
     "text": [
      "[youtube] 3tUh-x-fp8Q: Downloading webpage\n",
      "[youtube] 3tUh-x-fp8Q: Downloading video info webpage\n"
     ]
    },
    {
     "name": "stderr",
     "output_type": "stream",
     "text": [
      "\r",
      " 43%|███████████████████████████████████▍                                              | 16/37 [00:29<00:41,  1.96s/it]"
     ]
    },
    {
     "name": "stdout",
     "output_type": "stream",
     "text": [
      "[youtube] ZJM4AQSbZDk: Downloading webpage\n",
      "[youtube] ZJM4AQSbZDk: Downloading video info webpage\n"
     ]
    },
    {
     "name": "stderr",
     "output_type": "stream",
     "text": [
      "\r",
      " 46%|█████████████████████████████████████▋                                            | 17/37 [00:31<00:38,  1.92s/it]"
     ]
    },
    {
     "name": "stdout",
     "output_type": "stream",
     "text": [
      "[youtube] XEcKhamKyW4: Downloading webpage\n",
      "[youtube] XEcKhamKyW4: Downloading video info webpage\n"
     ]
    },
    {
     "name": "stderr",
     "output_type": "stream",
     "text": [
      "\r",
      " 49%|███████████████████████████████████████▉                                          | 18/37 [00:33<00:35,  1.88s/it]"
     ]
    },
    {
     "name": "stdout",
     "output_type": "stream",
     "text": [
      "[youtube] 90fRR8vHoM0: Downloading webpage\n",
      "[youtube] 90fRR8vHoM0: Downloading video info webpage\n"
     ]
    },
    {
     "name": "stderr",
     "output_type": "stream",
     "text": [
      "\r",
      " 51%|██████████████████████████████████████████                                        | 19/37 [00:35<00:34,  1.91s/it]"
     ]
    },
    {
     "name": "stdout",
     "output_type": "stream",
     "text": [
      "[youtube] pLuQ0MGLBXU: Downloading webpage\n",
      "[youtube] pLuQ0MGLBXU: Downloading video info webpage\n"
     ]
    },
    {
     "name": "stderr",
     "output_type": "stream",
     "text": [
      "\r",
      " 54%|████████████████████████████████████████████▎                                     | 20/37 [00:36<00:31,  1.86s/it]"
     ]
    },
    {
     "name": "stdout",
     "output_type": "stream",
     "text": [
      "[youtube] DrbmXAyW0vc: Downloading webpage\n",
      "[youtube] DrbmXAyW0vc: Downloading video info webpage\n"
     ]
    },
    {
     "name": "stderr",
     "output_type": "stream",
     "text": [
      "\r",
      " 57%|██████████████████████████████████████████████▌                                   | 21/37 [00:38<00:29,  1.85s/it]"
     ]
    },
    {
     "name": "stdout",
     "output_type": "stream",
     "text": [
      "[youtube] 26J98jG_j4k: Downloading webpage\n",
      "[youtube] 26J98jG_j4k: Downloading video info webpage\n"
     ]
    },
    {
     "name": "stderr",
     "output_type": "stream",
     "text": [
      "\r",
      " 59%|████████████████████████████████████████████████▊                                 | 22/37 [00:40<00:27,  1.85s/it]"
     ]
    },
    {
     "name": "stdout",
     "output_type": "stream",
     "text": [
      "[youtube] xOgdaVoSuWg: Downloading webpage\n",
      "[youtube] xOgdaVoSuWg: Downloading video info webpage\n"
     ]
    },
    {
     "name": "stderr",
     "output_type": "stream",
     "text": [
      "\r",
      " 62%|██████████████████████████████████████████████████▉                               | 23/37 [00:42<00:25,  1.79s/it]"
     ]
    },
    {
     "name": "stdout",
     "output_type": "stream",
     "text": [
      "[youtube] OULPCGSatzU: Downloading webpage\n",
      "[youtube] OULPCGSatzU: Downloading video info webpage\n"
     ]
    },
    {
     "name": "stderr",
     "output_type": "stream",
     "text": [
      "\r",
      " 65%|█████████████████████████████████████████████████████▏                            | 24/37 [00:43<00:22,  1.75s/it]"
     ]
    },
    {
     "name": "stdout",
     "output_type": "stream",
     "text": [
      "[youtube] mX5DMj8MHew: Downloading webpage\n",
      "[youtube] mX5DMj8MHew: Downloading video info webpage\n"
     ]
    },
    {
     "name": "stderr",
     "output_type": "stream",
     "text": [
      "\r",
      " 68%|███████████████████████████████████████████████████████▍                          | 25/37 [00:45<00:21,  1.82s/it]"
     ]
    },
    {
     "name": "stdout",
     "output_type": "stream",
     "text": [
      "[youtube] fDsdUoRRXTE: Downloading webpage\n",
      "[youtube] fDsdUoRRXTE: Downloading video info webpage\n"
     ]
    },
    {
     "name": "stderr",
     "output_type": "stream",
     "text": [
      "\r",
      " 70%|█████████████████████████████████████████████████████████▌                        | 26/37 [00:47<00:20,  1.82s/it]"
     ]
    },
    {
     "name": "stdout",
     "output_type": "stream",
     "text": [
      "[youtube] OxiH8NK1Tn0: Downloading webpage\n",
      "[youtube] OxiH8NK1Tn0: Downloading video info webpage\n"
     ]
    },
    {
     "name": "stderr",
     "output_type": "stream",
     "text": [
      "\r",
      " 73%|███████████████████████████████████████████████████████████▊                      | 27/37 [00:49<00:19,  1.92s/it]"
     ]
    },
    {
     "name": "stdout",
     "output_type": "stream",
     "text": [
      "[youtube] 3fEXvwQTrgo: Downloading webpage\n",
      "[youtube] 3fEXvwQTrgo: Downloading video info webpage\n"
     ]
    },
    {
     "name": "stderr",
     "output_type": "stream",
     "text": [
      "\r",
      " 76%|██████████████████████████████████████████████████████████████                    | 28/37 [00:51<00:16,  1.85s/it]"
     ]
    },
    {
     "name": "stdout",
     "output_type": "stream",
     "text": [
      "[youtube] x4QYkHJuW48: Downloading webpage\n",
      "[youtube] x4QYkHJuW48: Downloading video info webpage\n"
     ]
    },
    {
     "name": "stderr",
     "output_type": "stream",
     "text": [
      "\r",
      " 78%|████████████████████████████████████████████████████████████████▎                 | 29/37 [00:53<00:14,  1.79s/it]"
     ]
    },
    {
     "name": "stdout",
     "output_type": "stream",
     "text": [
      "[youtube] 66XGImlzY_I: Downloading webpage\n",
      "[youtube] 66XGImlzY_I: Downloading video info webpage\n"
     ]
    },
    {
     "name": "stderr",
     "output_type": "stream",
     "text": [
      "\r",
      " 81%|██████████████████████████████████████████████████████████████████▍               | 30/37 [00:54<00:12,  1.77s/it]"
     ]
    },
    {
     "name": "stdout",
     "output_type": "stream",
     "text": [
      "[youtube] tYwBRlgeK9Q: Downloading webpage\n",
      "[youtube] tYwBRlgeK9Q: Downloading video info webpage\n"
     ]
    },
    {
     "name": "stderr",
     "output_type": "stream",
     "text": [
      "\r",
      " 84%|████████████████████████████████████████████████████████████████████▋             | 31/37 [00:56<00:10,  1.77s/it]"
     ]
    },
    {
     "name": "stdout",
     "output_type": "stream",
     "text": [
      "[youtube] E8kEYzHrZMM: Downloading webpage\n",
      "[youtube] E8kEYzHrZMM: Downloading video info webpage\n"
     ]
    },
    {
     "name": "stderr",
     "output_type": "stream",
     "text": [
      "\r",
      " 86%|██████████████████████████████████████████████████████████████████████▉           | 32/37 [00:58<00:08,  1.77s/it]"
     ]
    },
    {
     "name": "stdout",
     "output_type": "stream",
     "text": [
      "[youtube] -d4jwvzt0RI: Downloading webpage\n",
      "[youtube] -d4jwvzt0RI: Downloading video info webpage\n"
     ]
    },
    {
     "name": "stderr",
     "output_type": "stream",
     "text": [
      "\r",
      " 89%|█████████████████████████████████████████████████████████████████████████▏        | 33/37 [00:59<00:06,  1.68s/it]"
     ]
    },
    {
     "name": "stdout",
     "output_type": "stream",
     "text": [
      "[youtube] qMpGYDLfsFk: Downloading webpage\n",
      "[youtube] qMpGYDLfsFk: Downloading video info webpage\n"
     ]
    },
    {
     "name": "stderr",
     "output_type": "stream",
     "text": [
      "\r",
      " 92%|███████████████████████████████████████████████████████████████████████████▎      | 34/37 [01:01<00:05,  1.76s/it]"
     ]
    },
    {
     "name": "stdout",
     "output_type": "stream",
     "text": [
      "[youtube] yDIun67PPpA: Downloading webpage\n",
      "[youtube] yDIun67PPpA: Downloading video info webpage\n"
     ]
    },
    {
     "name": "stderr",
     "output_type": "stream",
     "text": [
      "\r",
      " 95%|█████████████████████████████████████████████████████████████████████████████▌    | 35/37 [01:03<00:03,  1.81s/it]"
     ]
    },
    {
     "name": "stdout",
     "output_type": "stream",
     "text": [
      "[youtube] OYP38qW_96Q: Downloading webpage\n",
      "[youtube] OYP38qW_96Q: Downloading video info webpage\n"
     ]
    },
    {
     "name": "stderr",
     "output_type": "stream",
     "text": [
      "\r",
      " 97%|███████████████████████████████████████████████████████████████████████████████▊  | 36/37 [01:05<00:01,  1.78s/it]"
     ]
    },
    {
     "name": "stdout",
     "output_type": "stream",
     "text": [
      "[youtube] Rz7fFaovCwM: Downloading webpage\n",
      "[youtube] Rz7fFaovCwM: Downloading video info webpage\n"
     ]
    },
    {
     "name": "stderr",
     "output_type": "stream",
     "text": [
      "100%|██████████████████████████████████████████████████████████████████████████████████| 37/37 [01:07<00:00,  1.82s/it]\n"
     ]
    }
   ],
   "source": [
    "for song_id in tqdm(List_of_titles_from_playlist):\n",
    "    \n",
    "    youtube_urls.append(\"https://www.youtube.com/watch?v={}\".format(song_id))\n",
    "    youtube_url = (\"https://www.youtube.com/watch?v={}\".format(song_id))\n",
    "    # use youtube_dl to collect the song name & artist name\n",
    "    try:\n",
    "        video = youtube_dl.YoutubeDL({}).extract_info(youtube_url, download=False)\n",
    "        if video[\"track\"] is not None:\n",
    "            song_names.append(video[\"track\"])\n",
    "            artists.append(video[\"artist\"])\n",
    "    except Exception: \n",
    "         pass\n",
    "list_of_tuples = list(zip(artists, song_names,youtube_urls))\n",
    "songdf_playlist = pd.DataFrame(list_of_tuples, columns = ['Artist', 'Title', 'Url'])"
   ]
  },
  {
   "cell_type": "code",
   "execution_count": 143,
   "metadata": {},
   "outputs": [
    {
     "data": {
      "text/html": [
       "<div>\n",
       "<style scoped>\n",
       "    .dataframe tbody tr th:only-of-type {\n",
       "        vertical-align: middle;\n",
       "    }\n",
       "\n",
       "    .dataframe tbody tr th {\n",
       "        vertical-align: top;\n",
       "    }\n",
       "\n",
       "    .dataframe thead th {\n",
       "        text-align: right;\n",
       "    }\n",
       "</style>\n",
       "<table border=\"1\" class=\"dataframe\">\n",
       "  <thead>\n",
       "    <tr style=\"text-align: right;\">\n",
       "      <th></th>\n",
       "      <th>Artist</th>\n",
       "      <th>Title</th>\n",
       "      <th>Url</th>\n",
       "    </tr>\n",
       "  </thead>\n",
       "  <tbody>\n",
       "    <tr>\n",
       "      <th>0</th>\n",
       "      <td>Meduza</td>\n",
       "      <td>Born To Love (feat. SHELLS)</td>\n",
       "      <td>https://www.youtube.com/watch?v=Dlb6yvnFp2c</td>\n",
       "    </tr>\n",
       "    <tr>\n",
       "      <th>1</th>\n",
       "      <td>Ben Howard</td>\n",
       "      <td>Keep Your Head Up</td>\n",
       "      <td>https://www.youtube.com/watch?v=ADP65wbBUpc</td>\n",
       "    </tr>\n",
       "    <tr>\n",
       "      <th>2</th>\n",
       "      <td>Meduza</td>\n",
       "      <td>Born To Love (feat. SHELLS)</td>\n",
       "      <td>https://www.youtube.com/watch?v=Dlb6yvnFp2c</td>\n",
       "    </tr>\n",
       "    <tr>\n",
       "      <th>3</th>\n",
       "      <td>Ben Howard</td>\n",
       "      <td>Keep Your Head Up</td>\n",
       "      <td>https://www.youtube.com/watch?v=ADP65wbBUpc</td>\n",
       "    </tr>\n",
       "    <tr>\n",
       "      <th>4</th>\n",
       "      <td>Little Big</td>\n",
       "      <td>Faradenza CC DNxHD 4K</td>\n",
       "      <td>https://www.youtube.com/watch?v=EWapk2fa76s</td>\n",
       "    </tr>\n",
       "    <tr>\n",
       "      <th>...</th>\n",
       "      <td>...</td>\n",
       "      <td>...</td>\n",
       "      <td>...</td>\n",
       "    </tr>\n",
       "    <tr>\n",
       "      <th>436</th>\n",
       "      <td>Ghostpoet</td>\n",
       "      <td>Meltdown</td>\n",
       "      <td>https://www.youtube.com/watch?v=KHohhuZXJR8</td>\n",
       "    </tr>\n",
       "    <tr>\n",
       "      <th>437</th>\n",
       "      <td>Wild Girls, Inc.</td>\n",
       "      <td>Take It Off</td>\n",
       "      <td>https://www.youtube.com/watch?v=bvttDWdl0OQ</td>\n",
       "    </tr>\n",
       "    <tr>\n",
       "      <th>438</th>\n",
       "      <td>MAW</td>\n",
       "      <td>Work</td>\n",
       "      <td>https://www.youtube.com/watch?v=JpWHmFQvNR8</td>\n",
       "    </tr>\n",
       "    <tr>\n",
       "      <th>439</th>\n",
       "      <td>Tres.B</td>\n",
       "      <td>Strikes, Slips And Faults</td>\n",
       "      <td>https://www.youtube.com/watch?v=yolVKbSFLVY</td>\n",
       "    </tr>\n",
       "    <tr>\n",
       "      <th>440</th>\n",
       "      <td>Bonde do Role</td>\n",
       "      <td>Bonde do Rolê-Kilo (Turbotito Reggae Party Remix)</td>\n",
       "      <td>https://www.youtube.com/watch?v=Zsaz72OBT9s</td>\n",
       "    </tr>\n",
       "  </tbody>\n",
       "</table>\n",
       "<p>441 rows × 3 columns</p>\n",
       "</div>"
      ],
      "text/plain": [
       "               Artist                                              Title  \\\n",
       "0              Meduza                        Born To Love (feat. SHELLS)   \n",
       "1          Ben Howard                                  Keep Your Head Up   \n",
       "2              Meduza                        Born To Love (feat. SHELLS)   \n",
       "3          Ben Howard                                  Keep Your Head Up   \n",
       "4          Little Big                              Faradenza CC DNxHD 4K   \n",
       "..                ...                                                ...   \n",
       "436         Ghostpoet                                           Meltdown   \n",
       "437  Wild Girls, Inc.                                        Take It Off   \n",
       "438               MAW                                               Work   \n",
       "439            Tres.B                          Strikes, Slips And Faults   \n",
       "440     Bonde do Role  Bonde do Rolê-Kilo (Turbotito Reggae Party Remix)   \n",
       "\n",
       "                                             Url  \n",
       "0    https://www.youtube.com/watch?v=Dlb6yvnFp2c  \n",
       "1    https://www.youtube.com/watch?v=ADP65wbBUpc  \n",
       "2    https://www.youtube.com/watch?v=Dlb6yvnFp2c  \n",
       "3    https://www.youtube.com/watch?v=ADP65wbBUpc  \n",
       "4    https://www.youtube.com/watch?v=EWapk2fa76s  \n",
       "..                                           ...  \n",
       "436  https://www.youtube.com/watch?v=KHohhuZXJR8  \n",
       "437  https://www.youtube.com/watch?v=bvttDWdl0OQ  \n",
       "438  https://www.youtube.com/watch?v=JpWHmFQvNR8  \n",
       "439  https://www.youtube.com/watch?v=yolVKbSFLVY  \n",
       "440  https://www.youtube.com/watch?v=Zsaz72OBT9s  \n",
       "\n",
       "[441 rows x 3 columns]"
      ]
     },
     "execution_count": 143,
     "metadata": {},
     "output_type": "execute_result"
    }
   ],
   "source": [
    "songdf"
   ]
  },
  {
   "cell_type": "code",
   "execution_count": 147,
   "metadata": {},
   "outputs": [],
   "source": [
    "list_of_uris = []\n",
    "for Artist,Title in zip(songdf_playlist.Artist, songdf_playlist.Title): \n",
    "    list_of_uris.append(get_spotify_uri(Title,Artist))  "
   ]
  },
  {
   "cell_type": "code",
   "execution_count": 148,
   "metadata": {
    "scrolled": true
   },
   "outputs": [
    {
     "data": {
      "text/plain": [
       "25"
      ]
     },
     "execution_count": 148,
     "metadata": {},
     "output_type": "execute_result"
    }
   ],
   "source": [
    "list_of_uris = list(dict.fromkeys(list_of_uris))\n",
    "len(list_of_uris)"
   ]
  },
  {
   "cell_type": "markdown",
   "metadata": {},
   "source": [
    "## Create New Playlist In Spotify"
   ]
  },
  {
   "cell_type": "code",
   "execution_count": 149,
   "metadata": {},
   "outputs": [],
   "source": [
    "def create_playlist():\n",
    "        \"\"\"Create A New Playlist\"\"\"\n",
    "        request_body = json.dumps({\n",
    "            \"name\": \"Asia Music\",\n",
    "            \"description\": \"All Liked Youtube Videos\",\n",
    "            \"public\": True\n",
    "        })\n",
    "\n",
    "        query = \"https://api.spotify.com/v1/users/{}/playlists\".format(spotify_user_id)\n",
    "        response = requests.post(\n",
    "            query,\n",
    "            data=request_body,\n",
    "            headers={\n",
    "                \"Content-Type\": \"application/json\",\n",
    "                \"Authorization\": \"Bearer {}\".format(spotify_token)\n",
    "            }\n",
    "        )\n",
    "        response_json = response.json()\n",
    "\n",
    "\n",
    "        # playlist id\n",
    "        return response_json[\"id\"]"
   ]
  },
  {
   "cell_type": "code",
   "execution_count": 17,
   "metadata": {},
   "outputs": [
    {
     "data": {
      "text/plain": [
       "'7jjzMeJNJWxNnW473boLZl'"
      ]
     },
     "execution_count": 17,
     "metadata": {},
     "output_type": "execute_result"
    }
   ],
   "source": [
    "create_playlist()"
   ]
  },
  {
   "cell_type": "markdown",
   "metadata": {},
   "source": [
    "## Get URIs from each tracks"
   ]
  },
  {
   "cell_type": "code",
   "execution_count": 53,
   "metadata": {},
   "outputs": [],
   "source": [
    "def get_spotify_uri(song_name, artist):\n",
    "        \"\"\"Search For the Song\"\"\"\n",
    "        query = \"https://api.spotify.com/v1/search?query=track%3A{}+artist%3A{}&type=track&offset=0&limit=20\".format(\n",
    "            song_name,\n",
    "            artist\n",
    "        )\n",
    "        response = requests.get(\n",
    "            query,\n",
    "            headers={\n",
    "                \"Content-Type\": \"application/json\",\n",
    "                \"Authorization\": \"Bearer {}\".format(spotify_token)\n",
    "            }\n",
    "        )\n",
    "        \n",
    "        response_json = response.json()\n",
    "        #print(response_json)\n",
    "        songs = response_json[\"tracks\"][\"items\"]\n",
    "        # only use the first song\n",
    "        if songs: \n",
    "            uri = songs[0][\"uri\"]\n",
    "            return uri\n",
    "        else:\n",
    "            return \"spotify:track:6W6obcK9bYFhbK4CiJ1czq\""
   ]
  },
  {
   "cell_type": "code",
   "execution_count": 80,
   "metadata": {},
   "outputs": [],
   "source": [
    "\n",
    "list_of_uris_1 = list_of_uris[:99]\n",
    "list_of_uris_2 = list_of_uris[100:199]\n",
    "list_of_uris_3 = list_of_uris[200:265]\n",
    "\n",
    "request_data = json.dumps(list_of_uris_3)\n",
    "\n",
    "query = \"https://api.spotify.com/v1/playlists/{}/tracks\".format('267lh87t6MXWFelKg8SZ4n')\n",
    "\n",
    "response = requests.post(\n",
    "    query,\n",
    "    data=request_data,\n",
    "    headers={\n",
    "        \"Content-Type\": \"application/json\",\n",
    "        \"Authorization\": \"Bearer {}\".format(spotify_token)\n",
    "    }\n",
    ")"
   ]
  },
  {
   "cell_type": "code",
   "execution_count": 59,
   "metadata": {},
   "outputs": [],
   "source": [
    "def add_to_playlist():\n",
    "    playlist_id = create_playlist()\n",
    "    print(playlist_id)\n",
    "    # add all songs into new playlist\n",
    "    #request_data = json.dumps(uris)\n",
    "\n",
    "    request_data = json.dumps(list_of_uris)\n",
    "\n",
    "    query = \"https://api.spotify.com/v1/playlists/{}/tracks\".format(playlist_id)\n",
    "\n",
    "    response = requests.post(\n",
    "        query,\n",
    "        data=request_data,\n",
    "        headers={\n",
    "            \"Content-Type\": \"application/json\",\n",
    "            \"Authorization\": \"Bearer {}\".format(spotify_token)\n",
    "        }\n",
    "    )\n",
    "    print(response.text)"
   ]
  },
  {
   "cell_type": "code",
   "execution_count": 150,
   "metadata": {},
   "outputs": [
    {
     "name": "stdout",
     "output_type": "stream",
     "text": [
      "2gNuoHoHqFqfWVEVa3vI69\n",
      "{\n",
      "  \"snapshot_id\" : \"Myw1YjYxZmE5NzZmMDEzZWIwMDRiNmM3NzE2MTE1YjhiNjUxOGZlZWM2\"\n",
      "}\n"
     ]
    }
   ],
   "source": [
    "add_to_playlist()"
   ]
  }
 ],
 "metadata": {
  "kernelspec": {
   "display_name": "Python 3",
   "language": "python",
   "name": "python3"
  },
  "language_info": {
   "codemirror_mode": {
    "name": "ipython",
    "version": 3
   },
   "file_extension": ".py",
   "mimetype": "text/x-python",
   "name": "python",
   "nbconvert_exporter": "python",
   "pygments_lexer": "ipython3",
   "version": "3.7.4"
  }
 },
 "nbformat": 4,
 "nbformat_minor": 2
}

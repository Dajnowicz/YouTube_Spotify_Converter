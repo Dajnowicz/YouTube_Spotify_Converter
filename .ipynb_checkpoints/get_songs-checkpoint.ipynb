{
 "cells": [
  {
   "cell_type": "code",
   "execution_count": 162,
   "metadata": {},
   "outputs": [
    {
     "name": "stdout",
     "output_type": "stream",
     "text": [
      "Please visit this URL to authorize this application: https://accounts.google.com/o/oauth2/auth?response_type=code&client_id=43481671573-vs2br2gi1hu0gt3l0iljdooakjenma90.apps.googleusercontent.com&redirect_uri=urn%3Aietf%3Awg%3Aoauth%3A2.0%3Aoob&scope=https%3A%2F%2Fwww.googleapis.com%2Fauth%2Fyoutube&state=d25EWGETyrkmAQRZEFn82CR56FoJkY&prompt=consent&access_type=offline\n",
      "Enter the authorization code: 4/wgGJkEo7s52dOUhKy1QzRxQ9KiWgCgAMHdwdquhRQSE-gnYCzVDVun8\n"
     ]
    }
   ],
   "source": [
    "from apiclient.discovery import build\n",
    "from google_auth_oauthlib.flow import InstalledAppFlow\n",
    "\n",
    "CLIENT_SECRET_FILE = 'secret_json.json'\n",
    "SCOPES = ['https://www.googleapis.com/auth/youtube']\n",
    "\n",
    "flow = InstalledAppFlow.from_client_secrets_file(CLIENT_SECRET_FILE, SCOPES)\n",
    "credentials = flow.run_console()\n",
    "youtube = build('youtube', 'v3', credentials=credentials)"
   ]
  },
  {
   "cell_type": "code",
   "execution_count": 163,
   "metadata": {},
   "outputs": [
    {
     "data": {
      "text/plain": [
       "<googleapiclient.discovery.Resource at 0x2b13bfe6108>"
      ]
     },
     "execution_count": 163,
     "metadata": {},
     "output_type": "execute_result"
    }
   ],
   "source": [
    "youtube"
   ]
  },
  {
   "cell_type": "code",
   "execution_count": 164,
   "metadata": {},
   "outputs": [],
   "source": [
    "List_of_titles = []"
   ]
  },
  {
   "cell_type": "code",
   "execution_count": 165,
   "metadata": {},
   "outputs": [],
   "source": [
    "def get_results(Token=''):\n",
    "    request = youtube.videos().list(\n",
    "            part=\"snippet,contentDetails,statistics\",\n",
    "            myRating=\"like\",\n",
    "            maxResults = 50,\n",
    "            pageToken = Token\n",
    "        )\n",
    "    response = request.execute() \n",
    "    nextToken = response.get('prevPageToken', {})\n",
    "    \n",
    "    if nextToken:\n",
    "        for item in response['items']:\n",
    "            print(item)\n",
    "            #List_of_titles.append(item['id'])\n",
    "        get_results(nextToken)\n",
    "    else:\n",
    "        return List_of_titles"
   ]
  },
  {
   "cell_type": "code",
   "execution_count": 166,
   "metadata": {},
   "outputs": [
    {
     "name": "stdout",
     "output_type": "stream",
     "text": [
      "gs0xe9DQEPc\n",
      "fFMKg8MAYMI\n",
      "s3K_10PamZs\n",
      "hpx-742y_IY\n",
      "9bZkp7q19f0\n",
      "YeBvurTaKX8\n",
      "6rUbn5cH0u4\n",
      "awo4DmV13ik\n",
      "sWN9MeyzdXY\n",
      "zFE2pYkBj88\n",
      "2482jzaNm1A\n",
      "en5hWeodMws\n",
      "XIz0PIPP4q0\n",
      "wQf3A2ohX7c\n",
      "C_JYYVdb_dA\n",
      "ABkQ96dh0eQ\n",
      "6D8GN5fIPq8\n",
      "F-8CdBxFDuE\n",
      "evQsOFQju08\n",
      "jCBdMrl5UPQ\n",
      "VtluwBX3bu0\n",
      "MwhyMjljQ1E\n",
      "JE1KSveod0k\n",
      "05uV2Vp72zY\n",
      "Q8yk6kuIap4\n",
      "-PYmuyayvp4\n",
      "vTTla96uVwo\n",
      "XL2xK1W6yfY\n",
      "WWMy-57Pc5k\n",
      "6EG8AlzpVSk\n",
      "J0gIunxNm_Q\n",
      "AHfeKLOdhMI\n",
      "AesuPvWeJvs\n",
      "c-mZ3ZEySL8\n",
      "Q9bz8RUsOUU\n"
     ]
    }
   ],
   "source": [
    "for item in response['items']:\n",
    "            print(item['id'])"
   ]
  },
  {
   "cell_type": "code",
   "execution_count": 167,
   "metadata": {},
   "outputs": [
    {
     "data": {
      "text/plain": [
       "[]"
      ]
     },
     "execution_count": 167,
     "metadata": {},
     "output_type": "execute_result"
    }
   ],
   "source": [
    "get_results()\n",
    "#List_of_titles = list(dict.fromkeys(List_of_titles))"
   ]
  },
  {
   "cell_type": "code",
   "execution_count": 155,
   "metadata": {},
   "outputs": [
    {
     "data": {
      "text/plain": [
       "0"
      ]
     },
     "execution_count": 155,
     "metadata": {},
     "output_type": "execute_result"
    }
   ],
   "source": [
    "len(List_of_titles)"
   ]
  },
  {
   "cell_type": "code",
   "execution_count": 148,
   "metadata": {},
   "outputs": [
    {
     "data": {
      "text/plain": [
       "[]"
      ]
     },
     "execution_count": 148,
     "metadata": {},
     "output_type": "execute_result"
    }
   ],
   "source": [
    "List_of_titles"
   ]
  },
  {
   "cell_type": "code",
   "execution_count": 118,
   "metadata": {},
   "outputs": [],
   "source": [
    "spotify_token = \"BQAuptaDrQyJ1Bv9fiT-iDmLNozBq0KtaQ3I95cdhs1LVF76pCgK6245PJWRKnUq46O6qQFlOnQznlakvyfKeLuKkHlus-AFRW3WTA0EnYzY17ueVed9guyzLFZP-8gz-RzVyG80tvPXKQ-y26_qRaz274ZVRJwxk0lySgTHjS_MAGpX\"\n",
    "spotify_user_id = \"diplosaurus\"\n",
    "def create_playlist():\n",
    "        \"\"\"Create A New Playlist\"\"\"\n",
    "        request_body = json.dumps({\n",
    "            \"name\": \"Youtube Liked Vids\",\n",
    "            \"description\": \"All Liked Youtube Videos\",\n",
    "            \"public\": True\n",
    "        })\n",
    "\n",
    "        query = \"https://api.spotify.com/v1/users/{}/playlists\".format(spotify_user_id)\n",
    "        response = requests.post(\n",
    "            query,\n",
    "            data=request_body,\n",
    "            headers={\n",
    "                \"Content-Type\": \"application/json\",\n",
    "                \"Authorization\": \"Bearer {}\".format(spotify_token)\n",
    "            }\n",
    "        )\n",
    "        response_json = response.json()\n",
    "\n",
    "        # playlist id\n",
    "        return response_json[\"id\"]"
   ]
  },
  {
   "cell_type": "code",
   "execution_count": 125,
   "metadata": {},
   "outputs": [
    {
     "data": {
      "text/plain": [
       "'1hq09iiMK1jj1HXICkdGlu'"
      ]
     },
     "execution_count": 125,
     "metadata": {},
     "output_type": "execute_result"
    }
   ],
   "source": [
    "import json\n",
    "import requests\n",
    "create_playlist()"
   ]
  },
  {
   "cell_type": "code",
   "execution_count": null,
   "metadata": {},
   "outputs": [],
   "source": [
    "def get_spotify_uri(song_name, artist):\n",
    "        \"\"\"Search For the Song\"\"\"\n",
    "        query = \"https://api.spotify.com/v1/search?query=track%3A{}+artist%3A{}&type=track&offset=0&limit=20\".format(\n",
    "            song_name,\n",
    "            artist\n",
    "        )\n",
    "        response = requests.get(\n",
    "            query,\n",
    "            headers={\n",
    "                \"Content-Type\": \"application/json\",\n",
    "                \"Authorization\": \"Bearer {}\".format(spotify_token)\n",
    "            }\n",
    "        )\n",
    "        response_json = response.json()\n",
    "        songs = response_json[\"tracks\"][\"items\"]\n",
    "\n",
    "        # only use the first song\n",
    "        uri = songs[0][\"uri\"]\n",
    "\n",
    "        return uri"
   ]
  },
  {
   "cell_type": "code",
   "execution_count": 156,
   "metadata": {},
   "outputs": [
    {
     "name": "stdout",
     "output_type": "stream",
     "text": [
      "[youtube] Dlb6yvnFp2c: Downloading webpage\n",
      "[youtube] Dlb6yvnFp2c: Downloading video info webpage\n"
     ]
    }
   ],
   "source": [
    "import youtube_dl\n",
    "youtube_url = \"https://www.youtube.com/watch?v=Dlb6yvnFp2c\"\n",
    "video = youtube_dl.YoutubeDL({}).extract_info(youtube_url, download=False)"
   ]
  },
  {
   "cell_type": "code",
   "execution_count": 157,
   "metadata": {},
   "outputs": [
    {
     "data": {
      "text/plain": [
       "'Meduza'"
      ]
     },
     "execution_count": 157,
     "metadata": {},
     "output_type": "execute_result"
    }
   ],
   "source": [
    "video['artist']"
   ]
  }
 ],
 "metadata": {
  "kernelspec": {
   "display_name": "Python 3",
   "language": "python",
   "name": "python3"
  },
  "language_info": {
   "codemirror_mode": {
    "name": "ipython",
    "version": 3
   },
   "file_extension": ".py",
   "mimetype": "text/x-python",
   "name": "python",
   "nbconvert_exporter": "python",
   "pygments_lexer": "ipython3",
   "version": "3.7.4"
  }
 },
 "nbformat": 4,
 "nbformat_minor": 2
}
